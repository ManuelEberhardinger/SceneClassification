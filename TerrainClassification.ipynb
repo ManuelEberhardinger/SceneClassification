{
 "cells": [
  {
   "cell_type": "code",
   "execution_count": 1,
   "metadata": {},
   "outputs": [
    {
     "name": "stdout",
     "output_type": "stream",
     "text": [
      "/host/SceneClassification/dataset/testset /host/SceneClassification/dataset/pexels\n"
     ]
    }
   ],
   "source": [
    "import os \n",
    "\n",
    "testset = os.path.join(os.getcwd(), 'dataset', 'testset')\n",
    "trainingset = os.path.join(os.getcwd(), 'dataset', 'pexels')\n",
    "#trainingset = os.path.join(os.getcwd(), 'dataset', 'trainingset')\n",
    "print(testset, trainingset)"
   ]
  },
  {
   "cell_type": "code",
   "execution_count": 2,
   "metadata": {},
   "outputs": [
    {
     "data": {
      "text/plain": [
       "['snow', 'grass', 'sand', 'ground']"
      ]
     },
     "execution_count": 2,
     "metadata": {},
     "output_type": "execute_result"
    }
   ],
   "source": [
    "os.listdir(testset)"
   ]
  },
  {
   "cell_type": "code",
   "execution_count": 3,
   "metadata": {},
   "outputs": [],
   "source": [
    "from torchvision import transforms\n",
    "import torchvision\n",
    "from torch.autograd import Variable\n",
    "import torch\n",
    "import torchvision.models as pretrained_models\n",
    "import torch.nn.functional as F\n",
    "import torch.nn as nn\n",
    "import torch.optim as optim"
   ]
  },
  {
   "cell_type": "code",
   "execution_count": 4,
   "metadata": {},
   "outputs": [],
   "source": [
    "std_image_size = 224\n",
    "std_scale = 256\n",
    "\n",
    "def get_trainings_transformations():\n",
    "    return transforms.Compose([\n",
    "            #transforms.Resize(self.std_scale),\n",
    "            #transforms.Lambda(lambda x: x.convert('L')),\n",
    "            transforms.RandomResizedCrop(std_image_size),\n",
    "            transforms.RandomHorizontalFlip(),\n",
    "            transforms.ToTensor(),\n",
    "            transforms.Normalize([0.485, 0.456, 0.406], [0.229, 0.224, 0.225])\n",
    "        ])\n",
    "\n",
    "def get_test_transformations():\n",
    "    return transforms.Compose([\n",
    "            #transforms.Lambda(lambda x: x.convert('L')),\n",
    "            transforms.Resize(std_scale),\n",
    "            transforms.CenterCrop(std_image_size),\n",
    "            transforms.ToTensor(),\n",
    "            transforms.Normalize([0.485, 0.456, 0.406], [0.229, 0.224, 0.225])\n",
    "        ])\n",
    "\n",
    "def load_dataset(data_path, transformations, batch_size = 64):\n",
    "    dataset = torchvision.datasets.ImageFolder(\n",
    "        root=data_path,\n",
    "        transform=transformations\n",
    "    )\n",
    "\n",
    "    data_loader = torch.utils.data.DataLoader(\n",
    "        dataset,\n",
    "        batch_size=batch_size,\n",
    "        num_workers=0,\n",
    "        shuffle=True\n",
    "    )\n",
    "    return data_loader, dataset.classes\n"
   ]
  },
  {
   "cell_type": "code",
   "execution_count": 13,
   "metadata": {
    "scrolled": true
   },
   "outputs": [
    {
     "name": "stdout",
     "output_type": "stream",
     "text": [
      "['grass', 'ground', 'sand', 'snow']\n",
      "[1,   100] loss: 1.129\n",
      "[1,   200] loss: 0.990\n",
      "[2,   100] loss: 0.911\n",
      "[2,   200] loss: 0.924\n",
      "[3,   100] loss: 0.885\n",
      "[3,   200] loss: 0.872\n",
      "[4,   100] loss: 0.833\n",
      "[4,   200] loss: 0.830\n",
      "[5,   100] loss: 0.823\n",
      "[5,   200] loss: 0.821\n",
      "[6,   100] loss: 0.805\n",
      "[6,   200] loss: 0.810\n",
      "[7,   100] loss: 0.776\n",
      "[7,   200] loss: 0.813\n",
      "[8,   100] loss: 0.782\n",
      "[8,   200] loss: 0.804\n",
      "[9,   100] loss: 0.785\n",
      "[9,   200] loss: 0.803\n",
      "[10,   100] loss: 0.762\n",
      "[10,   200] loss: 0.762\n",
      "[11,   100] loss: 0.749\n",
      "[11,   200] loss: 0.770\n",
      "[12,   100] loss: 0.746\n",
      "[12,   200] loss: 0.742\n",
      "[13,   100] loss: 0.738\n",
      "[13,   200] loss: 0.729\n",
      "[14,   100] loss: 0.730\n",
      "[14,   200] loss: 0.737\n",
      "[15,   100] loss: 0.719\n",
      "[15,   200] loss: 0.749\n",
      "[16,   100] loss: 0.733\n",
      "[16,   200] loss: 0.717\n",
      "[17,   100] loss: 0.718\n",
      "[17,   200] loss: 0.709\n",
      "[18,   100] loss: 0.686\n",
      "[18,   200] loss: 0.735\n",
      "[19,   100] loss: 0.714\n",
      "[19,   200] loss: 0.702\n",
      "[20,   100] loss: 0.710\n",
      "[20,   200] loss: 0.698\n",
      "[21,   100] loss: 0.692\n",
      "[21,   200] loss: 0.688\n",
      "[22,   100] loss: 0.678\n",
      "[22,   200] loss: 0.696\n",
      "[23,   100] loss: 0.700\n",
      "[23,   200] loss: 0.679\n",
      "[24,   100] loss: 0.681\n",
      "[24,   200] loss: 0.689\n",
      "[25,   100] loss: 0.674\n",
      "[25,   200] loss: 0.693\n",
      "[26,   100] loss: 0.677\n",
      "[26,   200] loss: 0.676\n",
      "[27,   100] loss: 0.667\n",
      "[27,   200] loss: 0.649\n",
      "[28,   100] loss: 0.626\n",
      "[28,   200] loss: 0.665\n",
      "[29,   100] loss: 0.640\n",
      "[29,   200] loss: 0.658\n",
      "[30,   100] loss: 0.648\n",
      "[30,   200] loss: 0.636\n",
      "[31,   100] loss: 0.642\n",
      "[31,   200] loss: 0.641\n",
      "[32,   100] loss: 0.639\n",
      "[32,   200] loss: 0.655\n",
      "[33,   100] loss: 0.620\n",
      "[33,   200] loss: 0.636\n",
      "[34,   100] loss: 0.637\n",
      "[34,   200] loss: 0.622\n",
      "[35,   100] loss: 0.621\n",
      "[35,   200] loss: 0.634\n",
      "[36,   100] loss: 0.605\n",
      "[36,   200] loss: 0.627\n",
      "[37,   100] loss: 0.607\n",
      "[37,   200] loss: 0.614\n",
      "[38,   100] loss: 0.607\n",
      "[38,   200] loss: 0.643\n",
      "[39,   100] loss: 0.614\n",
      "[39,   200] loss: 0.610\n",
      "[40,   100] loss: 0.608\n",
      "[40,   200] loss: 0.611\n",
      "[41,   100] loss: 0.581\n",
      "[41,   200] loss: 0.611\n",
      "[42,   100] loss: 0.587\n",
      "[42,   200] loss: 0.604\n",
      "[43,   100] loss: 0.579\n",
      "[43,   200] loss: 0.596\n",
      "[44,   100] loss: 0.560\n",
      "[44,   200] loss: 0.592\n",
      "[45,   100] loss: 0.577\n",
      "[45,   200] loss: 0.603\n",
      "[46,   100] loss: 0.590\n",
      "[46,   200] loss: 0.578\n",
      "[47,   100] loss: 0.568\n",
      "[47,   200] loss: 0.591\n",
      "[48,   100] loss: 0.545\n",
      "[48,   200] loss: 0.576\n",
      "[49,   100] loss: 0.592\n",
      "[49,   200] loss: 0.583\n",
      "[50,   100] loss: 0.568\n",
      "[50,   200] loss: 0.574\n",
      "Finished Training\n"
     ]
    }
   ],
   "source": [
    "device = torch.device(\"cuda\" if torch.cuda.is_available() else \"cpu\")\n",
    "\n",
    "trainloader, dset_classes = load_dataset(trainingset, get_trainings_transformations())\n",
    "net = pretrained_models.resnet50(pretrained=True)\n",
    "print(dset_classes)\n",
    "net.fc = torch.nn.Linear(2048, len(dset_classes))\n",
    "net = net.to(device) \n",
    "#net.load_state_dict(torch.load(os.getcwd() + '/serialized_nets/terrain_v100'))\n",
    "criterion = nn.CrossEntropyLoss()\n",
    "optimizer = optim.Adam(net.parameters())\n",
    "for epoch in range(50):  # loop over the dataset multiple times\n",
    "\n",
    "    running_loss = 0.0\n",
    "    for i, data in enumerate(trainloader, 0):\n",
    "        # get the inputs; data is a list of [inputs, labels]\n",
    "        inputs, labels = data\n",
    "        # move them to gpu if accessible\n",
    "        inputs, labels = inputs.to(device), labels.to(device)\n",
    "\n",
    "        # zero the parameter gradients\n",
    "        optimizer.zero_grad()\n",
    "\n",
    "        # forward + backward + optimize\n",
    "        outputs = net(inputs)\n",
    "        loss = criterion(outputs, labels)\n",
    "        loss.backward()\n",
    "        optimizer.step()\n",
    "\n",
    "        # print statistics\n",
    "        running_loss += loss.item()\n",
    "        if i % 100 == 99:    # print every 50 mini-batches\n",
    "            print('[%d, %5d] loss: %.3f' %\n",
    "                  (epoch + 1, i + 1, running_loss / 100))\n",
    "            running_loss = 0.0\n",
    "    if epoch % 10 == 9:\n",
    "        torch.save(net.state_dict(), os.getcwd() + f'/serialized_nets/terrain_v' + str(epoch+1))\n",
    "\n",
    "print('Finished Training')"
   ]
  },
  {
   "cell_type": "code",
   "execution_count": 14,
   "metadata": {},
   "outputs": [
    {
     "name": "stderr",
     "output_type": "stream",
     "text": [
      "Clipping input data to the valid range for imshow with RGB data ([0..1] for floats or [0..255] for integers).\n"
     ]
    },
    {
     "data": {
      "text/plain": [
       "<Figure size 640x480 with 1 Axes>"
      ]
     },
     "metadata": {},
     "output_type": "display_data"
    },
    {
     "name": "stdout",
     "output_type": "stream",
     "text": [
      "grass ground  sand  sand\n"
     ]
    }
   ],
   "source": [
    "import matplotlib.pyplot as plt\n",
    "import numpy as np\n",
    "\n",
    "# functions to show an image\n",
    "\n",
    "\n",
    "def imshow(img):\n",
    "    img = img / 2 + 0.5     # unnormalize\n",
    "    npimg = img.numpy()\n",
    "    plt.imshow(np.transpose(npimg, (1, 2, 0)))\n",
    "    plt.show()\n",
    "\n",
    "\n",
    "# get some random training images\n",
    "dataiter = iter(trainloader)\n",
    "images, labels = dataiter.next()\n",
    "\n",
    "# show images\n",
    "imshow(torchvision.utils.make_grid(images))\n",
    "# print labels\n",
    "print(' '.join('%5s' % classes[labels[j]] for j in range(4)))"
   ]
  },
  {
   "cell_type": "code",
   "execution_count": 15,
   "metadata": {},
   "outputs": [
    {
     "name": "stderr",
     "output_type": "stream",
     "text": [
      "Clipping input data to the valid range for imshow with RGB data ([0..1] for floats or [0..255] for integers).\n"
     ]
    },
    {
     "data": {
      "image/png": "[encoded data removed]",
      "text/plain": [
       "<Figure size 432x288 with 1 Axes>"
      ]
     },
     "metadata": {
      "needs_background": "light"
     },
     "output_type": "display_data"
    },
    {
     "name": "stdout",
     "output_type": "stream",
     "text": [
      "GroundTruth:  ground ground ground  sand\n"
     ]
    }
   ],
   "source": [
    "testloader, classes = load_dataset(testset, get_test_transformations(), batch_size=4)\n",
    "dataiter = iter(testloader)\n",
    "images, labels = dataiter.__next__()\n",
    "\n",
    "# print images\n",
    "imshow(torchvision.utils.make_grid(images))\n",
    "print('GroundTruth: ', ' '.join('%5s' % classes[labels[j]] for j in range(4)))"
   ]
  },
  {
   "cell_type": "code",
   "execution_count": 16,
   "metadata": {},
   "outputs": [
    {
     "name": "stdout",
     "output_type": "stream",
     "text": [
      "Predicted:  ground grass grass  sand\n"
     ]
    }
   ],
   "source": [
    "net = net.to('cpu')\n",
    "outputs = net(images)\n",
    "_, predicted = torch.max(outputs, 1)\n",
    "\n",
    "print('Predicted: ', ' '.join('%5s' % classes[predicted[j]]\n",
    "                              for j in range(4)))"
   ]
  },
  {
   "cell_type": "code",
   "execution_count": 17,
   "metadata": {},
   "outputs": [
    {
     "name": "stdout",
     "output_type": "stream",
     "text": [
      "Accuracy of the network on the 10000 test images: 64 %\n"
     ]
    }
   ],
   "source": [
    "correct = 0\n",
    "total = 0\n",
    "net.to(device)\n",
    "with torch.no_grad():\n",
    "    for data in testloader:\n",
    "        images, labels = data\n",
    "        images, labels = images.to(device), labels.to(device)\n",
    "        outputs = net(images)\n",
    "        _, predicted = torch.max(outputs.data, 1)\n",
    "        total += labels.size(0)\n",
    "        correct += (predicted == labels).sum().item()\n",
    "\n",
    "print('Accuracy of the network on the 10000 test images: %d %%' % (100 * correct / total))"
   ]
  },
  {
   "cell_type": "code",
   "execution_count": 18,
   "metadata": {},
   "outputs": [
    {
     "name": "stdout",
     "output_type": "stream",
     "text": [
      "Accuracy of grass : 74 %\n",
      "Accuracy of ground : 46 %\n",
      "Accuracy of  sand : 64 %\n",
      "Accuracy of  snow : 74 %\n"
     ]
    }
   ],
   "source": [
    "class_correct = list(0. for i in range(10))\n",
    "class_total = list(0. for i in range(10))\n",
    "with torch.no_grad():\n",
    "    for data in testloader:\n",
    "        images, labels = data\n",
    "        images, labels = images.to(device), labels.to(device)\n",
    "        outputs = net(images)\n",
    "        _, predicted = torch.max(outputs, 1)\n",
    "        c = (predicted == labels).squeeze()\n",
    "        for i in range(4):\n",
    "            label = labels[i]\n",
    "            class_correct[label] += c[i].item()\n",
    "            class_total[label] += 1\n",
    "\n",
    "\n",
    "for i in range(4):\n",
    "    print('Accuracy of %5s : %2d %%' % (classes[i], 100 * class_correct[i] / class_total[i]))"
   ]
  },
  {
   "cell_type": "code",
   "execution_count": null,
   "metadata": {},
   "outputs": [],
   "source": [
    "torch.save(net.state_dict(), os.getcwd() + f'/serialized_nets/terrain_v' + str(epoch+1))"
   ]
  },
  {
   "cell_type": "code",
   "execution_count": null,
   "metadata": {},
   "outputs": [],
   "source": []
  }
 ],
 "metadata": {
  "kernelspec": {
   "display_name": "Python 3",
   "language": "python",
   "name": "python3"
  },
  "language_info": {
   "codemirror_mode": {
    "name": "ipython",
    "version": 3
   },
   "file_extension": ".py",
   "mimetype": "text/x-python",
   "name": "python",
   "nbconvert_exporter": "python",
   "pygments_lexer": "ipython3",
   "version": "3.6.8"
  }
 },
 "nbformat": 4,
 "nbformat_minor": 2
}
